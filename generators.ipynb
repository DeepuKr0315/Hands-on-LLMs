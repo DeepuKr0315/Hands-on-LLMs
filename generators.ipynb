{
 "cells": [
  {
   "cell_type": "markdown",
   "id": "9fa9dc29-5392-4bb8-877d-795c0b093e4e",
   "metadata": {},
   "source": [
    "# Intermediate Level Python\n",
    "\n",
    "`yield from {book.get(\"author\") for book in books if book.get(\"author\")}`\n",
    "\n",
    "## Understanding NameErrors in Python\n",
    "It's quite common to hit a NameError in python. With foundational knowledge, you should always feel equipped to debug a NameError and get to the bottom of it."
   ]
  },
  {
   "cell_type": "code",
   "execution_count": 1,
   "id": "f5174234-a561-4b7c-8eac-a2ae83a3db90",
   "metadata": {},
   "outputs": [],
   "source": [
    "# First let's create some things:\n",
    "\n",
    "fruits = [\"Apples\", \"Bananas\", \"Pears\"]\n",
    "\n",
    "book1 = {\"title\": \"Great Expectations\", \"author\": \"Charles Dickens\"}\n",
    "book2 = {\"title\": \"Bleak House\", \"author\": \"Charles Dickens\"}\n",
    "book3 = {\"title\": \"An Book By No Author\"}\n",
    "book4 = {\"title\": \"Moby Dick\", \"author\": \"Herman Melville\"}\n",
    "\n",
    "books = [book1, book2, book3, book4]"
   ]
  },
  {
   "cell_type": "markdown",
   "id": "e2b0ede4-e18d-4c3a-9c57-cdcd80148204",
   "metadata": {},
   "source": [
    "## Part 1: List and dict comprehensions"
   ]
  },
  {
   "cell_type": "code",
   "execution_count": 2,
   "id": "0c2f69c5-650d-41c7-a73e-555a7bb7aa85",
   "metadata": {},
   "outputs": [
    {
     "name": "stdout",
     "output_type": "stream",
     "text": [
      "Apples\n",
      "Bananas\n",
      "Pears\n"
     ]
    }
   ],
   "source": [
    "# Simple enough to start\n",
    "for fruit in fruits:\n",
    "    print(fruit)"
   ]
  },
  {
   "cell_type": "code",
   "execution_count": 3,
   "id": "36418708-9d3b-4998-914b-5f36bcc3ff6b",
   "metadata": {},
   "outputs": [
    {
     "data": {
      "text/plain": [
       "['APPLES', 'BANANAS', 'PEARS']"
      ]
     },
     "execution_count": 3,
     "metadata": {},
     "output_type": "execute_result"
    }
   ],
   "source": [
    "# Let's make a new version of fruits\n",
    "\n",
    "fruits_shouted = []\n",
    "for fruit in fruits:\n",
    "    fruits_shouted.append(fruit.upper())\n",
    "\n",
    "fruits_shouted"
   ]
  },
  {
   "cell_type": "code",
   "execution_count": 5,
   "id": "90ba5082-48b1-4de3-a7df-0d47380ac992",
   "metadata": {},
   "outputs": [
    {
     "data": {
      "text/plain": [
       "['APPLES', 'BANANAS', 'PEARS']"
      ]
     },
     "execution_count": 5,
     "metadata": {},
     "output_type": "execute_result"
    }
   ],
   "source": [
    "# There's a nice Python construct called \"list comprehension\" that does this:\n",
    "\n",
    "fruits_shouted2 = [fruit.upper() for fruit in fruits]\n",
    "fruits_shouted2"
   ]
  },
  {
   "cell_type": "code",
   "execution_count": 6,
   "id": "d2607453-fd47-4cc9-9b41-52c41d5dc59a",
   "metadata": {},
   "outputs": [
    {
     "data": {
      "text/plain": [
       "{'Apples': 'APPLES', 'Bananas': 'BANANAS', 'Pears': 'PEARS'}"
      ]
     },
     "execution_count": 6,
     "metadata": {},
     "output_type": "execute_result"
    }
   ],
   "source": [
    "# But we can do this to create dictionaries, too:\n",
    "\n",
    "fruit_mapping = {fruit: fruit.upper() for fruit in fruits}\n",
    "fruit_mapping"
   ]
  },
  {
   "cell_type": "code",
   "execution_count": 7,
   "id": "8eb12c39-d540-4bb2-ac88-814d03a7d6fb",
   "metadata": {},
   "outputs": [
    {
     "data": {
      "text/plain": [
       "['APPLES', 'BANANAS']"
      ]
     },
     "execution_count": 7,
     "metadata": {},
     "output_type": "execute_result"
    }
   ],
   "source": [
    "# we can also use the if statement to filter the results\n",
    "\n",
    "fruits_with_longer_names_shouted = [fruit.upper() for fruit in fruits if len(fruit)>5]\n",
    "fruits_with_longer_names_shouted"
   ]
  },
  {
   "cell_type": "code",
   "execution_count": 8,
   "id": "15bf55f2-a1d1-4f1a-b62d-c89b9b90413a",
   "metadata": {},
   "outputs": [
    {
     "data": {
      "text/plain": [
       "{'Bananas': 'BANANAS', 'Pears': 'PEARS'}"
      ]
     },
     "execution_count": 8,
     "metadata": {},
     "output_type": "execute_result"
    }
   ],
   "source": [
    "fruit_mapping_unless_starts_with_a = {fruit: fruit.upper() for fruit in fruits if not fruit.startswith('A')}\n",
    "fruit_mapping_unless_starts_with_a"
   ]
  },
  {
   "cell_type": "code",
   "execution_count": 9,
   "id": "7b8e977d-8446-4bbc-95ec-800870fded71",
   "metadata": {},
   "outputs": [
    {
     "data": {
      "text/plain": [
       "['Great Expectations', 'Bleak House', 'An Book By No Author', 'Moby Dick']"
      ]
     },
     "execution_count": 9,
     "metadata": {},
     "output_type": "execute_result"
    }
   ],
   "source": [
    "# Another comprehension\n",
    "\n",
    "[book['title'] for book in books]"
   ]
  },
  {
   "cell_type": "code",
   "execution_count": 10,
   "id": "8518c4f8-a32f-4bfa-9227-b1e217731d90",
   "metadata": {},
   "outputs": [
    {
     "ename": "KeyError",
     "evalue": "'author'",
     "output_type": "error",
     "traceback": [
      "\u001b[0;31m---------------------------------------------------------------------------\u001b[0m",
      "\u001b[0;31mKeyError\u001b[0m                                  Traceback (most recent call last)",
      "Cell \u001b[0;32mIn[10], line 3\u001b[0m\n\u001b[1;32m      1\u001b[0m \u001b[38;5;66;03m# This code will fail with an error because one of our books doesn't have an author\u001b[39;00m\n\u001b[0;32m----> 3\u001b[0m [book[\u001b[38;5;124m'\u001b[39m\u001b[38;5;124mauthor\u001b[39m\u001b[38;5;124m'\u001b[39m] \u001b[38;5;28;01mfor\u001b[39;00m book \u001b[38;5;129;01min\u001b[39;00m books]\n",
      "\u001b[0;31mKeyError\u001b[0m: 'author'"
     ]
    }
   ],
   "source": [
    "# This code will fail with an error because one of our books doesn't have an author\n",
    "\n",
    "[book['author'] for book in books]"
   ]
  },
  {
   "cell_type": "code",
   "execution_count": 11,
   "id": "7ee612b3-d433-46fc-b97d-3d891870002e",
   "metadata": {},
   "outputs": [
    {
     "data": {
      "text/plain": [
       "['Charles Dickens', 'Charles Dickens', None, 'Herman Melville']"
      ]
     },
     "execution_count": 11,
     "metadata": {},
     "output_type": "execute_result"
    }
   ],
   "source": [
    "# But this will work, because get() returns None\n",
    "\n",
    "[book.get('author') for book in books]"
   ]
  },
  {
   "cell_type": "code",
   "execution_count": 12,
   "id": "e1801eef-7b19-4ba1-bf9e-373f16d452aa",
   "metadata": {},
   "outputs": [
    {
     "data": {
      "text/plain": [
       "['Charles Dickens', 'Charles Dickens', 'Herman Melville']"
      ]
     },
     "execution_count": 12,
     "metadata": {},
     "output_type": "execute_result"
    }
   ],
   "source": [
    "# And this variation will filter out the None\n",
    "\n",
    "[book.get('author') for book in books if book.get('author')]"
   ]
  },
  {
   "cell_type": "code",
   "execution_count": 13,
   "id": "7870fe55-8495-445b-8b01-1437b797e82d",
   "metadata": {},
   "outputs": [
    {
     "data": {
      "text/plain": [
       "{'Charles Dickens', 'Herman Melville'}"
      ]
     },
     "execution_count": 13,
     "metadata": {},
     "output_type": "execute_result"
    }
   ],
   "source": [
    "# And this version will convert it into a set, removing duplicates\n",
    "\n",
    "set([book.get('author') for book in books if book.get('author')])"
   ]
  },
  {
   "cell_type": "code",
   "execution_count": 14,
   "id": "17d23160-40fa-4bfd-a6f0-abd6af91571e",
   "metadata": {},
   "outputs": [
    {
     "data": {
      "text/plain": [
       "{'Charles Dickens', 'Herman Melville'}"
      ]
     },
     "execution_count": 14,
     "metadata": {},
     "output_type": "execute_result"
    }
   ],
   "source": [
    "# And finally, this version is even nicer\n",
    "# curly braces creates a set, so this is a set comprehension\n",
    "\n",
    "{book.get('author') for book in books if book.get('author')}"
   ]
  },
  {
   "cell_type": "markdown",
   "id": "48309ca9-d7a3-4d3f-9ab5-102eb7e96e2f",
   "metadata": {},
   "source": [
    "## Generators"
   ]
  },
  {
   "cell_type": "code",
   "execution_count": 15,
   "id": "8a4bfbda-29ce-423b-884f-8d2962ff2c2d",
   "metadata": {},
   "outputs": [],
   "source": [
    "# First define a generator; it looks like a function, but it has yield instead of return\n",
    "\n",
    "import time\n",
    "\n",
    "def come_up_with_fruit_names():\n",
    "    for fruit in fruits:\n",
    "        time.sleep(1) # thinking of a fruit\n",
    "        yield fruit"
   ]
  },
  {
   "cell_type": "code",
   "execution_count": 16,
   "id": "b687a04d-d643-412c-9f8a-84e565ee1bd3",
   "metadata": {},
   "outputs": [
    {
     "name": "stdout",
     "output_type": "stream",
     "text": [
      "Apples\n",
      "Bananas\n",
      "Pears\n"
     ]
    }
   ],
   "source": [
    "# Then use it\n",
    "\n",
    "for fruit in come_up_with_fruit_names():\n",
    "    print(fruit)"
   ]
  },
  {
   "cell_type": "code",
   "execution_count": 17,
   "id": "b924711f-fd76-4847-bef2-fa52e9478588",
   "metadata": {},
   "outputs": [],
   "source": [
    "# Here's another one\n",
    "\n",
    "def authors_generator():\n",
    "    for book in books:\n",
    "        if book.get(\"author\"):\n",
    "            yield book.get(\"author\")"
   ]
  },
  {
   "cell_type": "code",
   "execution_count": 18,
   "id": "8b19c994-8edf-4754-adcd-59bd7027336f",
   "metadata": {},
   "outputs": [
    {
     "name": "stdout",
     "output_type": "stream",
     "text": [
      "Charles Dickens\n",
      "Charles Dickens\n",
      "Herman Melville\n"
     ]
    }
   ],
   "source": [
    "# Use it\n",
    "\n",
    "for author in authors_generator():\n",
    "    print(author)"
   ]
  },
  {
   "cell_type": "code",
   "execution_count": 19,
   "id": "93ca3d6f-eaa1-4e88-b10b-3fad16566d97",
   "metadata": {},
   "outputs": [],
   "source": [
    "# Here's the same thing written with list comprehension\n",
    "\n",
    "def authors_generator():\n",
    "    for author in [book.get(\"author\") for book in books if book.get(\"author\")]:\n",
    "        yield author"
   ]
  },
  {
   "cell_type": "code",
   "execution_count": 20,
   "id": "8e55f503-cdd1-447f-a20b-fda7b7fd435c",
   "metadata": {},
   "outputs": [
    {
     "name": "stdout",
     "output_type": "stream",
     "text": [
      "Charles Dickens\n",
      "Charles Dickens\n",
      "Herman Melville\n"
     ]
    }
   ],
   "source": [
    "# Use it\n",
    "\n",
    "for author in authors_generator():\n",
    "    print(author)"
   ]
  },
  {
   "cell_type": "code",
   "execution_count": 21,
   "id": "83689bf5-f472-4c78-8710-9f737c115bea",
   "metadata": {},
   "outputs": [],
   "source": [
    "# Here's a nice shortcut\n",
    "# You can use \"yield from\" to yield each item of an iterable\n",
    "\n",
    "def authors_generator():\n",
    "    yield from [book.get(\"author\") for book in books if book.get(\"author\")]"
   ]
  },
  {
   "cell_type": "code",
   "execution_count": 22,
   "id": "d92a80be-cd5f-484e-8d6d-d0cf30a9cc97",
   "metadata": {},
   "outputs": [
    {
     "name": "stdout",
     "output_type": "stream",
     "text": [
      "Charles Dickens\n",
      "Charles Dickens\n",
      "Herman Melville\n"
     ]
    }
   ],
   "source": [
    "# Use it\n",
    "\n",
    "for author in authors_generator():\n",
    "    print(author)"
   ]
  },
  {
   "cell_type": "code",
   "execution_count": 23,
   "id": "9153e438-dc90-41f6-a07e-ded8b5c38b8b",
   "metadata": {},
   "outputs": [],
   "source": [
    "# And finally - we can replace the list comprehension with a set comprehension\n",
    "\n",
    "def unique_authors_generator():\n",
    "    yield from {book.get(\"author\") for book in books if book.get(\"author\")}"
   ]
  },
  {
   "cell_type": "code",
   "execution_count": 24,
   "id": "5bd6e405-3987-4e7d-b7f6-465bce58badc",
   "metadata": {},
   "outputs": [
    {
     "name": "stdout",
     "output_type": "stream",
     "text": [
      "Herman Melville\n",
      "Charles Dickens\n"
     ]
    }
   ],
   "source": [
    "# Use it\n",
    "\n",
    "for author in unique_authors_generator():\n",
    "    print(author)"
   ]
  },
  {
   "cell_type": "code",
   "execution_count": 25,
   "id": "660a098e-8199-42e5-9e19-995a72383ddd",
   "metadata": {},
   "outputs": [
    {
     "name": "stdout",
     "output_type": "stream",
     "text": [
      "I dramatically renounce smelly eels. We bathe in whimsical turnips. You pontificate about bewildered rodents. I dramatically renounce suspicious bagpipes. We secretly collect pompous rodents. They deny the existence of pleasing monocles. You impersonate wobbly wombats. You pontificate about wobbly jellyfish. You detest pompous turnips. You misplace arrogant calculators. You pontificate about arrogant wombats. We secretly collect fluorescent calculators. You misplace pretentious monocles. We deny the existence of disheveled rodents. I bathe in smelly wombats. They conspire with smelly walruses. They eat pleasing bagpipes. We conspire with bewildered eels. They conspire with overripe accordions. I philosophize about suspicious calculators. You conspire with overripe turnips. They bathe in bewildered calculators. They tap dance on overripe accordions. They conspire with melodramatic kumquats. We resent pompous calculators. I philosophize about whimsical thermostats. I juggle melodramatic wombats. We pontificate about bewildered rodents. They detest bewildered jellyfish. They worship disheveled rodents. We worship pretentious kumquats. You juggle pompous spreadsheets. They impersonate overripe jellyfish. We detest suspicious turnips. I dramatically renounce smelly eels. I misplace pleasing spreadsheets. We philosophize about pompous kumquats. I misplace fluorescent spreadsheets. We conspire with wobbly accordions. You dramatically renounce suspicious rodents. They impersonate festering thermostats. They eat wobbly eels. I deny the existence of bewildered turnips. They resent overripe eels. You secretly collect turqoise rodents. We impersonate arrogant jellyfish. I deny the existence of pompous wombats. You dramatically renounce disheveled bagpipes. We resent melodramatic walruses. You deny the existence of overripe jellyfish. They pontificate about smelly calculators. I deny the existence of whimsical turnips. We worship suspicious thermostats. I deny the existence of turqoise spreadsheets. They deny the existence of melodramatic kumquats. I deny the existence of whimsical turnips. I philosophize about whimsical accordions. We pontificate about pretentious kumquats. You conspire with pompous mustaches. You deny the existence of smelly turnips. I impersonate suspicious kumquats. You deny the existence of fluorescent spreadsheets. I impersonate pompous wombats. You eat festering bagpipes. They detest pompous monocles. They eat wobbly eels. I resent smelly spreadsheets. They eat wobbly bagpipes. I resent smelly mustaches. I juggle wobbly jellyfish. We eat whimsical mustaches. I philosophize about fluorescent jellyfish. We worship pretentious monocles. They philosophize about festering eels. I conspire with pompous bagpipes. We tap dance on suspicious wombats. I eat overripe mustaches. We pontificate about wobbly wombats. I philosophize about pompous thermostats. You pontificate about whimsical thermostats. They deny the existence of whimsical spreadsheets. You bathe in smelly accordions. You detest bewildered mustaches. They deny the existence of melodramatic turnips. They impersonate overripe rodents. You worship pompous accordions. I bathe in overripe walruses. We detest pretentious thermostats. We bathe in pretentious turnips. You detest overripe bagpipes. You tap dance on bewildered kumquats. You pontificate about pretentious kumquats. I impersonate festering mustaches. I bathe in pretentious kumquats. We resent whimsical bagpipes. You detest arrogant rodents. We philosophize about smelly jellyfish. We detest wobbly walruses. You impersonate overripe accordions. You philosophize about fluorescent turnips. We dramatically renounce melodramatic kumquats. I worship fluorescent spreadsheets. We worship melodramatic wombats. We eat pleasing turnips. We juggle smelly rodents. We secretly collect arrogant jellyfish. They worship suspicious kumquats. We bathe in turqoise spreadsheets. We eat arrogant wombats. They secretly collect overripe eels. You dramatically renounce whimsical rodents. I resent pompous bagpipes. They philosophize about whimsical jellyfish. They dramatically renounce festering thermostats. I impersonate pompous eels. We detest smelly accordions. I pontificate about wobbly kumquats. We impersonate wobbly thermostats. I philosophize about pleasing thermostats. They impersonate pompous thermostats. I philosophize about overripe turnips. We resent disheveled turnips. I bathe in disheveled bagpipes. They impersonate pompous rodents. We pontificate about pleasing rodents. They impersonate arrogant wombats. I eat pompous m"
     ]
    },
    {
     "ename": "KeyboardInterrupt",
     "evalue": "",
     "output_type": "error",
     "traceback": [
      "\u001b[0;31m---------------------------------------------------------------------------\u001b[0m",
      "\u001b[0;31mKeyboardInterrupt\u001b[0m                         Traceback (most recent call last)",
      "Cell \u001b[0;32mIn[25], line 26\u001b[0m\n\u001b[1;32m     24\u001b[0m \u001b[38;5;28;01mfor\u001b[39;00m letter \u001b[38;5;129;01min\u001b[39;00m infinite_random_sentences():\n\u001b[1;32m     25\u001b[0m     \u001b[38;5;28mprint\u001b[39m(letter, end\u001b[38;5;241m=\u001b[39m\u001b[38;5;124m\"\u001b[39m\u001b[38;5;124m\"\u001b[39m, flush\u001b[38;5;241m=\u001b[39m\u001b[38;5;28;01mTrue\u001b[39;00m)\n\u001b[0;32m---> 26\u001b[0m     time\u001b[38;5;241m.\u001b[39msleep(\u001b[38;5;241m0.02\u001b[39m)\n",
      "\u001b[0;31mKeyboardInterrupt\u001b[0m: "
     ]
    }
   ],
   "source": [
    "# And for some fun - press the stop button in the toolbar when bored!\n",
    "# It's like we've made our own Large Language Model... although not particularly large..\n",
    "# See if you understand why it prints a letter at a time, instead of a word at a time. If you're unsure, try removing the keyword \"from\" everywhere in the code.\n",
    "\n",
    "import random\n",
    "import time\n",
    "\n",
    "pronouns = [\"I\", \"You\", \"We\", \"They\"]\n",
    "verbs = [\"eat\", \"detest\", \"bathe in\", \"deny the existence of\", \"resent\", \"pontificate about\", \"juggle\", \"impersonate\", \"worship\", \"misplace\", \"conspire with\", \"philosophize about\", \"tap dance on\", \"dramatically renounce\", \"secretly collect\"]\n",
    "adjectives = [\"turqoise\", \"smelly\", \"arrogant\", \"festering\", \"pleasing\", \"whimsical\", \"disheveled\", \"pretentious\", \"wobbly\", \"melodramatic\", \"pompous\", \"fluorescent\", \"bewildered\", \"suspicious\", \"overripe\"]\n",
    "nouns = [\"turnips\", \"rodents\", \"eels\", \"walruses\", \"kumquats\", \"monocles\", \"spreadsheets\", \"bagpipes\", \"wombats\", \"accordions\", \"mustaches\", \"calculators\", \"jellyfish\", \"thermostats\"]\n",
    "\n",
    "def infinite_random_sentences():\n",
    "    while True:\n",
    "        yield from random.choice(pronouns)\n",
    "        yield \" \"\n",
    "        yield from random.choice(verbs)\n",
    "        yield \" \"\n",
    "        yield from random.choice(adjectives)\n",
    "        yield \" \"\n",
    "        yield from random.choice(nouns)\n",
    "        yield \". \"\n",
    "\n",
    "for letter in infinite_random_sentences():\n",
    "    print(letter, end=\"\", flush=True)\n",
    "    time.sleep(0.02)"
   ]
  },
  {
   "cell_type": "code",
   "execution_count": 26,
   "id": "18819312-030c-4866-9390-6ec94abdbc71",
   "metadata": {},
   "outputs": [],
   "source": [
    "class Book:\n",
    "    def __init__(self, title, author=None):\n",
    "        self.title = title\n",
    "        self.author = author\n",
    "    def has_author(self):\n",
    "        return self.author is not None\n",
    "\n",
    "class BookShelf:\n",
    "    def __init__(self, books):\n",
    "        self.books = books\n",
    "    def unique_authors(self):\n",
    "        seen = set()\n",
    "        for book in self.books:\n",
    "            if book.has_author and book.has_author not in seen:\n",
    "                seen.add(book_author)\n",
    "                yield book_author\n",
    "    def random_book_info(self):\n",
    "        import random\n",
    "        adjectives = [\"incredible\", \"bizarre\", \"classic\", \"forgotten\", \"dramatic\"]\n",
    "        nouns = [\"tale\", \"journey\", \"legacy\", \"confession\", \"dream\"]\n",
    "        while True:\n",
    "            book = random.choice(self.books)\n",
    "            if book.has_author():\n",
    "                yield from book.title\n",
    "                yield \" written by \"\n",
    "                yield from book.author\n",
    "                yield \", a truly \"\n",
    "                yield from random.choice(adjectives)\n",
    "                yield \" \"\n",
    "                yield from random.choice(nouns)\n",
    "                yield \". \""
   ]
  },
  {
   "cell_type": "code",
   "execution_count": 28,
   "id": "a912bf77-774b-4471-bb8f-38ee34386aff",
   "metadata": {},
   "outputs": [
    {
     "name": "stdout",
     "output_type": "stream",
     "text": [
      "Moby Dick written by Herman Melville, a truly bizarre confession. Bleak House written by Charles Dickens, a truly bizarre journey. Great Expectations written by Charles Dickens, a truly bizarre dream. Moby Dick written by Herman Melville, a truly forgotten journey. Great Expectations written by Charles Dickens, a truly classic confession. Great Expectations written by Charles Dickens, a truly bizarre dream. Moby Dick written by Herman Melville, a truly forgotten dream. Great Expectations written by Charles Dickens, a truly bizarre legacy. Bleak House written by Charles Dickens, a truly forgotten legacy. Moby Dick written by Herman Melville, a truly classic confession. Moby Dick written by Herman Melville, a truly forgotten tale. Moby Dick written by Herman Melville, a truly dramatic dream. Moby Dick written by Herman Melville, a truly incredible tale. Moby Dick written by Herman Melville, a truly incredible dream. Great Expe"
     ]
    },
    {
     "ename": "KeyboardInterrupt",
     "evalue": "",
     "output_type": "error",
     "traceback": [
      "\u001b[0;31m---------------------------------------------------------------------------\u001b[0m",
      "\u001b[0;31mKeyboardInterrupt\u001b[0m                         Traceback (most recent call last)",
      "Cell \u001b[0;32mIn[28], line 12\u001b[0m\n\u001b[1;32m     10\u001b[0m \u001b[38;5;28;01mfor\u001b[39;00m char \u001b[38;5;129;01min\u001b[39;00m shelf\u001b[38;5;241m.\u001b[39mrandom_book_info():\n\u001b[1;32m     11\u001b[0m     \u001b[38;5;28mprint\u001b[39m(char, end\u001b[38;5;241m=\u001b[39m\u001b[38;5;124m\"\u001b[39m\u001b[38;5;124m\"\u001b[39m, flush\u001b[38;5;241m=\u001b[39m\u001b[38;5;28;01mTrue\u001b[39;00m)\n\u001b[0;32m---> 12\u001b[0m     time\u001b[38;5;241m.\u001b[39msleep(\u001b[38;5;241m0.02\u001b[39m)\n",
      "\u001b[0;31mKeyboardInterrupt\u001b[0m: "
     ]
    }
   ],
   "source": [
    "import time\n",
    "\n",
    "book1 = Book(\"Great Expectations\", \"Charles Dickens\")\n",
    "book2 = Book(\"Bleak House\", \"Charles Dickens\")\n",
    "book3 = Book(\"An Anonymous Book\")\n",
    "book4 = Book(\"Moby Dick\", \"Herman Melville\")\n",
    "\n",
    "shelf = BookShelf([book1, book2, book3, book4])\n",
    "\n",
    "for char in shelf.random_book_info():\n",
    "    print(char, end=\"\", flush=True)\n",
    "    time.sleep(0.02)"
   ]
  },
  {
   "cell_type": "code",
   "execution_count": null,
   "id": "a2987868-8c8c-4f6b-8ac1-b991cb52a868",
   "metadata": {},
   "outputs": [],
   "source": []
  }
 ],
 "metadata": {
  "kernelspec": {
   "display_name": "Python 3 (ipykernel)",
   "language": "python",
   "name": "python3"
  },
  "language_info": {
   "codemirror_mode": {
    "name": "ipython",
    "version": 3
   },
   "file_extension": ".py",
   "mimetype": "text/x-python",
   "name": "python",
   "nbconvert_exporter": "python",
   "pygments_lexer": "ipython3",
   "version": "3.13.5"
  }
 },
 "nbformat": 4,
 "nbformat_minor": 5
}
